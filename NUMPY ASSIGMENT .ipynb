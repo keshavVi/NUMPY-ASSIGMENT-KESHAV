{
 "cells": [
  {
   "cell_type": "code",
   "execution_count": null,
   "id": "a05ace65-04dd-410a-853c-d06104641eb0",
   "metadata": {},
   "outputs": [],
   "source": [
    "#11. Create a NumPy array 'arr' of integers from 0 to 5 and print its data type.\n",
    "import numpy as np\n",
    "arr = np.array([0, 1, 2, 3, 4, 5])\n",
    "print(arr.dtype)"
   ]
  },
  {
   "cell_type": "code",
   "execution_count": null,
   "id": "372b6e50-f47f-461d-a0c8-2add0ce8622a",
   "metadata": {},
   "outputs": [],
   "source": [
    "#2Given a NumPy array 'arr', check if its data type is float64.\n",
    "is_float64 = arr.dtype == np.float64\n",
    "print(is_float64)\n"
   ]
  },
  {
   "cell_type": "code",
   "execution_count": null,
   "id": "1b3217d7-ad1d-423b-9113-2c8b0bd1d42d",
   "metadata": {},
   "outputs": [],
   "source": [
    "#3Create a NumPy array 'arr' with a data type of complex128 containing three complex numbers.\n",
    "arr = np.array([1+2j, 3+4j, 5+6j], dtype=np.complex128)\n",
    "print(arr)"
   ]
  },
  {
   "cell_type": "code",
   "execution_count": null,
   "id": "7796c7d1-c992-4dff-a66c-7a251dfb90a4",
   "metadata": {},
   "outputs": [],
   "source": [
    "#4Convert an existing NumPy array 'arr' of integers to float32 data type.\n",
    "arr_float32 = arr.astype(np.float32)\n",
    "print(arr_float32)\n"
   ]
  },
  {
   "cell_type": "code",
   "execution_count": null,
   "id": "d04858b7-e89d-4cc0-8bbd-62851f78ef35",
   "metadata": {},
   "outputs": [],
   "source": [
    "#5 . Given a NumPy array 'arr' with float64 data type, convert it to float32 to reduce decimal precision.\n",
    "arr_float32 = arr.astype(np.float32)\n",
    "print(arr_float32)"
   ]
  },
  {
   "cell_type": "code",
   "execution_count": null,
   "id": "2b42bac9-a982-4353-9da8-5eff132fbc94",
   "metadata": {},
   "outputs": [],
   "source": [
    "#6  Write a function array_attributes that takes a NumPy array as input and returns its shape, size, and data\n",
    "type\n",
    "def array_attributes(arr):\n",
    "    return arr.shape, arr.size, arr.dtype\n",
    "\n",
    "print(array_attributes(arr))"
   ]
  },
  {
   "cell_type": "code",
   "execution_count": null,
   "id": "e30bade4-be29-4d22-87ff-9e4dffbb0563",
   "metadata": {},
   "outputs": [],
   "source": [
    "#7 Create a function array_dimension that takes a NumPy array as input and returns its dimensionality\n",
    "def array_dimension(arr):\n",
    "    return arr.ndim\n",
    "\n",
    "print(array_dimension(arr))"
   ]
  },
  {
   "cell_type": "code",
   "execution_count": null,
   "id": "840163ac-b4fc-4eb7-9f94-ad8269f96793",
   "metadata": {},
   "outputs": [],
   "source": [
    "#8  Design a function item_size_info that takes a NumPy array as input and returns the item size and the total\n",
    "# size in bytes\n",
    "def item_size_info(arr):\n",
    "    return arr.itemsize, arr.nbytes\n",
    "\n",
    "print(item_size_info(arr))\n"
   ]
  },
  {
   "cell_type": "code",
   "execution_count": null,
   "id": "7f8e0fee-c217-4002-88c5-c71440091199",
   "metadata": {},
   "outputs": [],
   "source": [
    "#9  Create a function array_strides that takes a NumPy array as input and returns the strides of the array\n",
    "def array_strides(arr):\n",
    "    return arr.strides\n",
    "\n",
    "print(array_strides(arr))"
   ]
  },
  {
   "cell_type": "code",
   "execution_count": null,
   "id": "497c1939-81a5-4e67-9225-adce44b221b8",
   "metadata": {},
   "outputs": [],
   "source": [
    "#10. Design a function shape_stride_relationship that takes a NumPy array as input and returns the shape\n",
    "# and strides of the array \n",
    "def shape_stride_relationship(arr):\n",
    "    return arr.shape, arr.strides\n",
    "\n",
    "print(shape_stride_relationship(arr))\n"
   ]
  },
  {
   "cell_type": "code",
   "execution_count": null,
   "id": "ad519c04-7ff1-4a2e-8bb8-0db7acfa00bd",
   "metadata": {},
   "outputs": [],
   "source": [
    "#11 Create a function `create_zeros_array` that takes an integer `n` as input and returns a NumPy array of\n",
    "# zeros with `n` elements.\n",
    " def create_zeros_array(n):\n",
    "    return np.zeros(n)\n",
    "\n",
    "print(create_zeros_array(5))"
   ]
  },
  {
   "cell_type": "code",
   "execution_count": null,
   "id": "a5ebfaad-4c7d-4a23-8b55-cc34bc032ed8",
   "metadata": {},
   "outputs": [],
   "source": [
    "#12 2. Write a function `create_ones_matrix` that takes integers `rows` and `cols` as inputs and generates a 2D\n",
    "# NumPy array filled with ones of size `rows x cols`\n",
    "def create_ones_matrix(rows, cols):\n",
    "    return np.ones((rows, cols))\n",
    "\n",
    "print(create_ones_matrix(3, 4))\n"
   ]
  },
  {
   "cell_type": "code",
   "execution_count": null,
   "id": "55847752-e62e-4ec8-83f3-6035c804a3e1",
   "metadata": {},
   "outputs": [],
   "source": [
    "13 . Write a function `generate_range_array` that takes three integers start, stop, and step as arguments and\n",
    "# creates a NumPy array with a range starting from `start`, ending at stop (exclusive), and with the specified\n",
    "#`step\n",
    "def generate_range_array(start, stop, step):\n",
    "    return np.arange(start, stop, step)\n",
    "\n",
    "print(generate_range_array(0, 10, 2))\n"
   ]
  },
  {
   "cell_type": "code",
   "execution_count": null,
   "id": "9494bad7-9d93-4164-a90c-6a6f23452590",
   "metadata": {},
   "outputs": [],
   "source": [
    "#14  Design a function `generate_linear_space` that takes two floats `start`, `stop`, and an integer `num` as\n",
    "# arguments and generates a NumPy array with num equally spaced values between `start` and `stop`\n",
    "# (inclusive).\n",
    "def generate_linear_space(start, stop, num):\n",
    "    return np.linspace(start, stop, num)\n",
    "\n",
    "print(generate_linear_space(0, 10, 5))"
   ]
  },
  {
   "cell_type": "code",
   "execution_count": null,
   "id": "365676c9-a94c-464c-ad1e-9d1ae2450346",
   "metadata": {},
   "outputs": [],
   "source": [
    "#15Create a function `create_identity_matrix` that takes an integer `n` as input and generates a square\n",
    "# ntity matrix of size `n x n` using `numpy.eye`.#15 \n",
    "def create_identity_matrix(n):\n",
    "    return np.eye(n)\n",
    "\n",
    "print(create_identity_matrix(4))"
   ]
  },
  {
   "cell_type": "code",
   "execution_count": null,
   "id": "91076d14-3447-4dc9-b1b0-91885cfba6d4",
   "metadata": {},
   "outputs": [],
   "source": [
    "#16  Write a function that takes a Python list and converts it into a NumPy array\n",
    "def list_to_array(py_list):\n",
    "    return np.array(py_list)\n",
    "\n",
    "print(list_to_array([1, 2, 3, 4]))"
   ]
  },
  {
   "cell_type": "code",
   "execution_count": null,
   "id": "14900466-f27b-4138-b552-aea15fe162cb",
   "metadata": {},
   "outputs": [],
   "source": [
    "#17 Create a NumPy array and demonstrate the use of `numpy.view` to create a new array object with the\n",
    "#17 same data.\n",
    "#17 \n",
    "arr = np.array([1, 2, 3, 4])\n",
    "view_arr = arr.view()\n",
    "print(view_arr)"
   ]
  },
  {
   "cell_type": "code",
   "execution_count": null,
   "id": "a86cdaaa-8745-4161-b5f8-b6b5962eaaa1",
   "metadata": {},
   "outputs": [],
   "source": [
    "#18  Write a function that takes two NumPy arrays and concatenates them along a specified axis.\n",
    "import numpy as np\n",
    "\n",
    "def concatenate_arrays(arr1, arr2, axis=0):\n",
    "    return np.concatenate((arr1, arr2), axis=axis)\n"
   ]
  },
  {
   "cell_type": "code",
   "execution_count": null,
   "id": "aeb0ef7d-c5be-4aad-b92a-315dccf0ebb9",
   "metadata": {},
   "outputs": [],
   "source": [
    "#19 Create two NumPy arrays with different shapes and concatenate them horizontally using `numpy.\n",
    "\n",
    "#concatenate`.\n",
    "arr1 = np.array([[1, 2], [3, 4]])\n",
    "arr2 = np.array([[5, 6]])\n",
    "\n",
    "# Ensure the arrays can be concatenated horizontally (along axis 1)\n",
    "result = np.concatenate((arr1, arr2.T), axis=1)  # Transpose arr2 for correct shape\n",
    "print(result)\n"
   ]
  },
  {
   "cell_type": "code",
   "execution_count": null,
   "id": "9b21a4d6-001b-49f6-b670-6f8557c6d703",
   "metadata": {},
   "outputs": [],
   "source": [
    "#20 Write a function that vertically stacks multiple NumPy arrays given as a list\n",
    "def vertical_stack(arrays):\n",
    "    return np.vstack(arrays)"
   ]
  },
  {
   "cell_type": "code",
   "execution_count": null,
   "id": "a0f1c7ec-dd93-435f-9290-0be842bed068",
   "metadata": {},
   "outputs": [],
   "source": [
    "#21  Write a Python function using NumPy to create an array of integers within a specified range (inclusive)\n",
    " #with a given step size\n",
    "def create_array_with_step(start, stop, step):\n",
    "    return np.arange(start, stop + 1, step)"
   ]
  },
  {
   "cell_type": "code",
   "execution_count": null,
   "id": "f7685d87-5b05-4a74-8041-c2e52889acce",
   "metadata": {},
   "outputs": [],
   "source": [
    "#22 Write a Python function using NumPy to generate an array of 10 equally spaced values between 0 and 1\n",
    "def equally_spaced_values():\n",
    "    return np.linspace(0, 1, 10)"
   ]
  },
  {
   "cell_type": "code",
   "execution_count": null,
   "id": "f63ff0bb-772e-4550-b4a0-8285e556cd97",
   "metadata": {},
   "outputs": [],
   "source": [
    "#23  Write a Python function using NumPy to create an array of 5 logarithmically spaced values between 1 and\n",
    "# 1000 (inclusive)\n",
    "def log_spaced_values():\n",
    "    return np.logspace(np.log10(1), np.log10(1000), 5)\n"
   ]
  },
  {
   "cell_type": "code",
   "execution_count": null,
   "id": "9aad145f-7176-4773-a210-c7109b28585e",
   "metadata": {},
   "outputs": [],
   "source": [
    "#24  Create a Pandas DataFrame using a NumPy array that contains 5 rows and 3 columns, where the values\n",
    "# are random integers between 1 and 100.\n",
    "import pandas as pd\n",
    "\n",
    "np_array = np.random.randint(1, 101, size=(5, 3))\n",
    "df = pd.DataFrame(np_array, columns=['A', 'B', 'C'])\n",
    "print(df)"
   ]
  },
  {
   "cell_type": "code",
   "execution_count": null,
   "id": "4427089b-5f18-4823-bafe-48b422f0e9f7",
   "metadata": {},
   "outputs": [],
   "source": [
    "#25 Write a function that takes a Pandas DataFrame and replaces all negative values in a specific column\n",
    "# with zeros. Use NumPy operations within the Pandas DataFrame\n",
    "def replace_negative_values(df, column_name):\n",
    "    df[column_name] = np.where(df[column_name] < 0, 0, df[column_name])\n",
    "    return df\n"
   ]
  },
  {
   "cell_type": "code",
   "execution_count": null,
   "id": "1ad6775b-f392-403f-a38a-96576123c106",
   "metadata": {},
   "outputs": [],
   "source": []
  },
  {
   "cell_type": "code",
   "execution_count": null,
   "id": "22c8b748-baf2-4282-b28e-49b57c16a45e",
   "metadata": {},
   "outputs": [],
   "source": [
    "#26  Access the 3rd element from the given NumPy array.\n",
    " #arr = np.array([10,20,30,40,50])\n",
    "import numpy as np\n",
    "\n",
    "arr = np.array([10, 20, 30, 40, 50])\n",
    "third_element = arr[2]  # Accessing the 3rd element (index 2)\n",
    "print(third_element)\n"
   ]
  },
  {
   "cell_type": "code",
   "execution_count": null,
   "id": "778e0d54-126f-401b-9148-778b9b43b082",
   "metadata": {},
   "outputs": [],
   "source": [
    "#27 Retrieve the element at index (1, 2) from the 2D NumPy array\n",
    "# arr_2d = np.array([[1, 2, 3], ",
    "\n",
    "#                    [4, 5, 6], ",
    "\n",
    "  #                 [7, 8, 9]])\n",
    "import numpy as np\n",
    "\n",
    "arr_2d = np.array([[1, 2, 3],\n",
    "                   [4, 5, 6],\n",
    "                   [7, 8, 9]])\n",
    "\n",
    "element = arr_2d[1, 2]  # Accessing the element at index (1, 2)\n",
    "print(element)"
   ]
  },
  {
   "cell_type": "code",
   "execution_count": null,
   "id": "98337581-bcc9-479f-a8b3-d005ae97ef7b",
   "metadata": {},
   "outputs": [],
   "source": [
    "#28  Using boolean indexing, extract elements greater than 5 from the given NumPy array\n",
    "#arr = np.array([3, 8, 2, 10, 5, 7])\n",
    "import numpy as np\n",
    "\n",
    "arr = np.array([3, 8, 2, 10, 5, 7])\n",
    "\n",
    "# Boolean indexing to extract elements greater than 5\n",
    "result = arr[arr > 5]\n",
    "print(result)\n"
   ]
  },
  {
   "cell_type": "code",
   "execution_count": null,
   "id": "afc92aed-12e2-4d99-837f-3eb3482ad2b0",
   "metadata": {},
   "outputs": [],
   "source": [
    "#29 Perform basic slicing to extract elements from index 2 to 5 (inclusive) from the given NumPy array.\n",
    "#arr = np.array([1, 2, 3, 4, 5, 6, 7, 8, 9])\n",
    "import numpy as np\n",
    "\n",
    "arr = np.array([1, 2, 3, 4, 5, 6, 7, 8, 9])\n",
    "\n",
    "# Slicing to extract elements from index 2 to 5 (inclusive)\n",
    "result = arr[2:6]  # The slice includes index 2, 3, 4, and 5\n",
    "print(result)\n"
   ]
  },
  {
   "cell_type": "code",
   "execution_count": null,
   "id": "335726b1-f971-4f2b-9b5e-e0fe12254525",
   "metadata": {},
   "outputs": [],
   "source": [
    "#30 . Slice the 2D NumPy array to extract the sub-array `[[2, 3], [5, 6]]` from the given array\n",
    "#arr_2d = np.array([[1, 2, 3], ",
    "\n",
    "   #                [4, 5, 6], ",
    "\n",
    "  #                 [7, 8, 9]])\n",
    "import numpy as np\n",
    "\n",
    "arr_2d = np.array([[1, 2, 3],\n",
    "                   [4, 5, 6],\n",
    "                   [7, 8, 9]])\n",
    "\n",
    "# Slicing to extract the sub-array [[2, 3], [5, 6]]\n",
    "sub_array = arr_2d[0:2, 1:3]\n",
    "print(sub_array)\n"
   ]
  },
  {
   "cell_type": "code",
   "execution_count": null,
   "id": "14145403-cafc-4b33-9741-555f8e43ec88",
   "metadata": {},
   "outputs": [],
   "source": [
    "#31 Write a NumPy function to extract elements in specific order from a given 2D array based on indices\n",
    "provided in another array.\n",
    "import numpy as np\n",
    "\n",
    "def extract_elements(arr, indices):\n",
    "    return arr[indices]\n",
    "\n",
    "# Example usage\n",
    "arr = np.array([[1, 2, 3], [4, 5, 6], [7, 8, 9]])\n",
    "indices = np.array([0, 2])\n",
    "result = extract_elements(arr, indices)\n",
    "print(result)\n"
   ]
  },
  {
   "cell_type": "code",
   "execution_count": null,
   "id": "4f2c57b7-71c2-41fa-b078-ef25a9dfe7d3",
   "metadata": {},
   "outputs": [],
   "source": [
    "#32 Create a NumPy function that filters elements greater than a threshold from a given 1D array using\n",
    "boolean indexing.\n",
    "import numpy as np\n",
    "\n",
    "def filter_greater_than_threshold(arr, threshold):\n",
    "    return arr[arr > threshold]\n",
    "\n",
    "# Example usage\n",
    "arr = np.array([1, 2, 3, 4, 5])\n",
    "threshold = 3\n",
    "result = filter_greater_than_threshold(arr, threshold)\n",
    "print(result)"
   ]
  },
  {
   "cell_type": "code",
   "execution_count": null,
   "id": "ef8f39cf-960a-4636-9ab9-2573c9bd85f4",
   "metadata": {},
   "outputs": [],
   "source": [
    "#33  Develop a NumPy function that extracts specific elements from a 3D array using indices provided in three\n",
    "separate arrays for each dimension.\n",
    "import numpy as np\n",
    "\n",
    "def extract_from_3d_array(arr, indices1, indices2, indices3):\n",
    "    return arr[indices1, indices2, indices3]\n",
    "\n",
    "# Example usage\n",
    "arr = np.random.randint(1, 10, size=(3, 3, 3))\n",
    "indices1 = np.array([0, 2])\n",
    "indices2 = np.array([1, 0])\n",
    "indices3 = np.array([2, 1])\n",
    "result = extract_from_3d_array(arr, indices1, indices2, indices3)\n",
    "print(result)"
   ]
  },
  {
   "cell_type": "code",
   "execution_count": null,
   "id": "19e1ad54-ff0d-43f2-8c70-9e743ee1523b",
   "metadata": {},
   "outputs": [],
   "source": [
    "#34 4. Write a NumPy function that returns elements from an array where both two conditions are satisfied\n",
    "using boolean indexing.\n",
    "import numpy as np\n",
    "\n",
    "def filter_elements_by_conditions(arr, condition1, condition2):\n",
    "    return arr[(condition1) & (condition2)]\n",
    "\n",
    "# Example usage\n",
    "arr = np.array([1, 2, 3, 4, 5, 6])\n",
    "condition1 = arr > 2\n",
    "condition2 = arr < 6\n",
    "result = filter_elements_by_conditions(arr, condition1, condition2)\n",
    "print(result)"
   ]
  },
  {
   "cell_type": "code",
   "execution_count": null,
   "id": "2653c9bf-d294-4cc7-807e-761651d9f02d",
   "metadata": {},
   "outputs": [],
   "source": [
    "#35 Create a NumPy function that extracts elements from a 2D array using row and column indices provided\n",
    "in separate arrays.\n",
    "import numpy as np\n",
    "\n",
    "def extract_using_row_column_indices(arr, row_indices, col_indices):\n",
    "    return arr[row_indices, col_indices]\n",
    "\n",
    "# Example usage\n",
    "arr = np.array([[1, 2, 3], [4, 5, 6], [7, 8, 9]])\n",
    "row_indices = np.array([0, 2])\n",
    "col_indices = np.array([1, 0])\n",
    "result = extract_using_row_column_indices(arr, row_indices, col_indices)\n",
    "print(result)\n"
   ]
  },
  {
   "cell_type": "code",
   "execution_count": null,
   "id": "74583664-889b-4e31-ae8b-4020344903fa",
   "metadata": {},
   "outputs": [],
   "source": [
    "#36 Given an array arr of shape (3, 3), add a scalar value of 5 to each element using NumPy broadcasting\n",
    "import numpy as np\n",
    "\n",
    "def add_scalar(arr, scalar):\n",
    "    return arr + scalar\n",
    "\n",
    "# Example usage\n",
    "arr = np.ones((3, 3))\n",
    "result = add_scalar(arr, 5)\n",
    "print(result)\n"
   ]
  },
  {
   "cell_type": "code",
   "execution_count": null,
   "id": "6d2ef2f9-5476-413f-b9cd-9d703d9d4b7e",
   "metadata": {},
   "outputs": [],
   "source": [
    "#37  Consider two arrays arr1 of shape (1, 3) and arr2 of shape (3, 4). Multiply each row of arr2 by the\n",
    "corresponding element in arr1 using NumPy broadcasting.\n",
    "import numpy as np\n",
    "\n",
    "def multiply_with_broadcast(arr1, arr2):\n",
    "    return arr2 * arr1.T\n",
    "\n",
    "# Example usage\n",
    "arr1 = np.array([[2, 4, 6]])\n",
    "arr2 = np.array([[1, 2, 3], [4, 5, 6], [7, 8, 9]])\n",
    "result = multiply_with_broadcast(arr1, arr2)\n",
    "print(result)"
   ]
  },
  {
   "cell_type": "code",
   "execution_count": null,
   "id": "3caefd27-845d-4706-acf7-bede6943bf31",
   "metadata": {},
   "outputs": [],
   "source": [
    "#38  Given a 1D array arr1 of shape (1, 4) and a 2D array arr2 of shape (4, 3), add arr1 to each row of arr2 using\n",
    "NumPy broadcasting\n",
    "import numpy as np\n",
    "\n",
    "def add_row_to_each(arr1, arr2):\n",
    "    return arr2 + arr1\n",
    "\n",
    "# Example usage\n",
    "arr1 = np.array([[1, 2, 3, 4]])\n",
    "arr2 = np.array([[5, 6, 7], [8, 9, 10], [11, 12, 13], [14, 15, 16]])\n",
    "result = add_row_to_each(arr1, arr2)\n",
    "print(result)\n"
   ]
  },
  {
   "cell_type": "code",
   "execution_count": null,
   "id": "d8ceb34d-a3bd-4e36-a776-b8109b96e6ae",
   "metadata": {},
   "outputs": [],
   "source": [
    "#39 9. Consider two arrays arr1 of shape (3, 1) and arr2 of shape (1, 3). Add these arrays using NumPy\n",
    "broadcasting.import numpy as np\n",
    "\n",
    "def add_using_broadcast(arr1, arr2):\n",
    "    return arr1 + arr2\n",
    "\n",
    "# Example usage\n",
    "arr1 = np.array([[1], [2], [3]])\n",
    "arr2 = np.array([[4, 5, 6]])\n",
    "result = add_using_broadcast(arr1, arr2)\n",
    "print(result)\n"
   ]
  },
  {
   "cell_type": "code",
   "execution_count": null,
   "id": "5dc3e39d-ada5-4bed-83cf-434c04a7a4f5",
   "metadata": {},
   "outputs": [],
   "source": [
    " #40 . Given arrays arr1 of shape (2, 3) and arr2 of shape (2, 2), perform multiplication using NumPy\n",
    "broadcasting. Handle the shape incompatibility\n",
    "import numpy as np\n",
    "\n",
    "def multiply_with_broadcast(arr1, arr2):\n",
    "    arr1_reshaped = arr1.reshape(-1, 1)  # Reshape arr1 to (2, 1) for broadcasting\n",
    "    return arr1_reshaped * arr2\n",
    "\n",
    "# Example usage\n",
    "arr1 = np.array([[2, 3, 4]])\n",
    "arr2 = np.array([[1, 2], [3, 4]])\n",
    "result = multiply_with_broadcast(arr1, arr2)\n",
    "print(result)"
   ]
  },
  {
   "cell_type": "code",
   "execution_count": null,
   "id": "580d7f86-1b5f-4b42-bf98-5be5c8c0f40b",
   "metadata": {},
   "outputs": [],
   "source": [
    "#41 Calculate column wise mean for the given array\n",
    "arr = np.array([[1, 2, 3], [4, 5, 6]])\n",
    "We can use the np.mean() function with axis=0:\n",
    "import numpy as np\n",
    "\n",
    "arr = np.array([[1, 2, 3], [4, 5, 6]])\n",
    "\n",
    "col_means = np.mean(arr, axis=0)\n",
    "print(col_means)  # Output: [2.5, 3.5, 4.5]\n",
    "\n"
   ]
  },
  {
   "cell_type": "code",
   "execution_count": null,
   "id": "0450c2cf-56aa-4012-b30d-7581521e8509",
   "metadata": {},
   "outputs": [],
   "source": [
    "#42Find maximum value in each row of the given array\n",
    "arr = np.array([[1, 2, 3], [4, 5, 6]])\n",
    "import numpy as np\n",
    "\n",
    "arr = np.array([[1, 2, 3], [4, 5, 6]])\n",
    "\n",
    "max_values = np.max(arr, axis=1)\n",
    "\n",
    "print(max_values)  # Output: [3 6]"
   ]
  },
  {
   "cell_type": "code",
   "execution_count": null,
   "id": "d980a5e9-7ca3-495e-9e4c-1d5ca7228aca",
   "metadata": {},
   "outputs": [],
   "source": [
    "#43 43. For the given array, find indices of maximum value in each column.\n",
    "arr = np.array([[1, 2, 3], [4, 5, 6]])\n",
    "import numpy as np\n",
    "\n",
    "arr = np.array([[1, 2, 3], [4, 5, 6]])\n",
    "\n",
    "max_indices = np.argmax(arr, axis=0)\n",
    "\n",
    "print(max_indices)  # Output: [1 1 1]"
   ]
  },
  {
   "cell_type": "code",
   "execution_count": null,
   "id": "3563b438-39be-45ad-97b2-43d58d8786fc",
   "metadata": {},
   "outputs": [],
   "source": [
    "#44 For the given array, apply custom function to calculate moving sum along rows\n",
    "arr = np.array([[1, 2, 3], [4, 5, 6]])\n",
    "import numpy as np\n",
    "\n",
    "arr = np.array([[1, 2, 3], [4, 5, 6]])\n",
    "\n",
    "# Calculate moving sum along rows\n",
    "moving_sum = np.cumsum(arr, axis=0)\n",
    "\n",
    "print(moving_sum)"
   ]
  },
  {
   "cell_type": "code",
   "execution_count": null,
   "id": "daa27f3b-ac82-4aa4-8a88-f4851fe828b5",
   "metadata": {},
   "outputs": [],
   "source": [
    "#45 In the given array, check if all elements in each column are even.\n",
    "arr = np.array([[1, 2, 3], [4, 5, 6]])\n",
    "import numpy as np\n",
    "\n",
    "arr = np.array([[1, 2, 3], [4, 5, 6]])\n",
    "\n",
    "# Check if all elements in each column are even\n",
    "even_cols = np.all(arr.T % 2 == 0, axis=0)\n",
    "\n",
    "print(even_cols)  # Output: [ True False True]"
   ]
  },
  {
   "cell_type": "code",
   "execution_count": null,
   "id": "34d001be-6d64-4e54-bb78-ea84ee7c771c",
   "metadata": {},
   "outputs": [],
   "source": [
    "#46 . Given a NumPy array arr, reshape it into a matrix of dimensions `m` rows and `n` columns. Return the\n",
    "reshaped matrix.\n",
    "original_array = np.array([1, 2, 3, 4, 5, 6])\n",
    "import numpy as np\n",
    "\n",
    "original_array = np.array([1, 2, 3, 4, 5, 6])\n",
    "\n",
    "# Define the desired dimensions (m, n)\n",
    "m, n = 2, 3  # For example, 2 rows and 3 columns\n",
    "\n",
    "reshaped_array = original_array.reshape(m, n)\n",
    "\n",
    "print(reshaped_array)\n",
    "\n",
    "\n"
   ]
  },
  {
   "cell_type": "code",
   "execution_count": null,
   "id": "8120b0cb-540b-4f09-b632-0721f122cd52",
   "metadata": {},
   "outputs": [],
   "source": [
    "#47 Create a function that takes a matrix as input and returns the flattened array\n",
    "input_matrix = np.array([[1, 2, 3], [4, 5, 6]])\n",
    "import numpy as np\n",
    "\n",
    "def flatten_matrix(matrix):\n",
    "    return matrix.flatten()\n",
    "    input_matrix = np.array([[1, 2, 3], [4, 5, 6]])\n",
    "flattened_array = flatten_matrix(input_matrix)\n",
    "print(flattened_array)  # Output: [1 2 3 4 5 6]"
   ]
  },
  {
   "cell_type": "code",
   "execution_count": null,
   "id": "e50c9ebe-ffbc-455b-a2dc-3db8fb6c6624",
   "metadata": {},
   "outputs": [],
   "source": [
    "#48  Write a function that concatenates two given arrays along a specified axis\n",
    "array1 = np.array([[1, 2], [3, 4]]) ",
    "\n",
    "array2 = np.array([[5, 6], [7, 8]])\n",
    "import numpy as np\n",
    "\n",
    "array1 = np.array([[1, 2], [3, 4]])\n",
    "array2 = np.array([[5, 6], [7, 8]])\n",
    "\n",
    "def concatenate_arrays(array1, array2, axis):\n",
    "    return np.concatenate((array1, array2), axis=axis)\n",
    "\n",
    "# Concatenate along rows (axis=0)\n",
    "result1 = concatenate_arrays(array1, array2, axis=0)\n",
    "print(\"Concatenated along rows:\")\n",
    "print(result1)\n",
    "\n",
    "# Concatenate along columns (axis=1)\n",
    "result2 = concatenate_arrays(array1, array2, axis=1)\n",
    "print(\"Concatenated along columns:\")\n",
    "print(result2)"
   ]
  },
  {
   "cell_type": "code",
   "execution_count": null,
   "id": "23e1c8d4-9a70-4a6e-8d0a-2140fc35e6a8",
   "metadata": {},
   "outputs": [],
   "source": [
    "#49  Create a function that splits an array into multiple sub-arrays along a specified axis.\n",
    "original_array = np.array([[1, 2, 3], [4, 5, 6], [7, 8, 9]])\n",
    "import numpy as np\n",
    "\n",
    "def split_array(original_array, axis=0, num_splits=None):\n",
    "    \"\"\"\n",
    "    Split an array into multiple sub-arrays along a specified axis.\n",
    "\n",
    "    Parameters:\n",
    "        original_array (numpy.ndarray): The array to be split.\n",
    "        axis (int, optional): The axis along which to split the array (default=0).\n",
    "        num_splits (int, optional): The number of splits to perform (default=None).\n",
    "\n",
    "    Returns:\n",
    "        list of numpy.ndarray: A list of sub-arrays.\n",
    "    \"\"\"\n",
    "    if num_splits is None:\n",
    "        num_splits = len(original_array) if axis == 0 else original_array.shape[1]\n",
    "\n",
    "    return np.split(original_array, num_splits, axis=axis)\n"
   ]
  },
  {
   "cell_type": "code",
   "execution_count": null,
   "id": "683ece6a-506b-4f9f-b182-11cab4425d84",
   "metadata": {},
   "outputs": [],
   "source": [
    "#50 Write a function that inserts and then deletes elements from a given array at specified indices\n",
    "original_array = np.array([1, 2, 3, 4, 5]) ",
    "\n",
    "indices_to_insert = [2, 4] ",
    "\n",
    "values_to_insert = [10, 11] ",
    "\n",
    "indices_to_delete = [1, 3]\n",
    "import numpy as np\n",
    "\n",
    "def insert_and_delete(original_array, indices_to_insert, values_to_insert, indices_to_delete):\n",
    "    # Insert values at specified indices\n",
    "    array = np.array(original_array)\n",
    "    for index, value in zip(indices_to_insert, values_to_insert):\n",
    "        array = np.insert(array, index, value)\n",
    "    \n",
    "    # Update indices_to_delete based on the new array\n",
    "    for i in range(len(values_to_insert)):\n",
    "        for j in range(len(indices_to_delete)):\n",
    "            if indices_to_delete[j] >= indices_to_insert[i]:\n",
    "                indices_to_delete[j] += 1\n",
    "    \n",
    "    # Delete elements at specified indices\n",
    "    for index in sorted(indices_to_delete, reverse=True):\n",
    "        array = np.delete(array, index)\n",
    "    \n",
    "    return array\n",
    "\n",
    "original_array = np.array([1, 2, 3, 4, 5])\n",
    "indices_to_insert = [2, 4]\n",
    "values_to_insert = [10, 11]\n",
    "indices_to_delete = [1, 3]\n",
    "\n",
    "result = insert_and_delete(original_array, indices_to_insert, values_to_insert, indices_to_delete)\n",
    "print(result)"
   ]
  },
  {
   "cell_type": "code",
   "execution_count": null,
   "id": "caa73370-b653-4c1e-a60f-6030fb9f52bb",
   "metadata": {},
   "outputs": [],
   "source": [
    "#51 Create a NumPy array `arr1` with random integers and another array `arr2` with integers from 1 to 10.\n",
    "Perform element-wise addition between `arr1` and `arr2`.\n",
    "import numpy as np\n",
    "\n",
    "# Create a NumPy array arr1 with random integers\n",
    "arr1 = np.random.randint(0, 100, 10)\n",
    "\n",
    "# Create a NumPy array arr2 with integers from 1 to 10\n",
    "arr2 = np.arange(1, 11)\n",
    "\n",
    "# Perform element-wise addition between arr1 and arr2\n",
    "result = np.add(arr1, arr2)\n",
    "\n",
    "print(\"Array arr1: \", arr1)\n",
    "print(\"Array arr2: \", arr2)\n",
    "print(\"Result of element-wise addition: \", result)"
   ]
  },
  {
   "cell_type": "code",
   "execution_count": null,
   "id": "aaad99d3-6329-43d7-8485-fa6cc284dc76",
   "metadata": {},
   "outputs": [],
   "source": [
    "#52 Generate a NumPy array `arr1` with sequential integers from 10 to 1 and another array `arr2` with integers\n",
    "from 1 to 10. Subtract `arr2` from `arr1` element-wise.\n",
    "import numpy as np\n",
    "\n",
    "# Create a NumPy array arr1 with random integers\n",
    "arr1 = np.random.randint(0, 100, 10)\n",
    "\n",
    "# Create a NumPy array arr2 with integers from 1 to 10\n",
    "arr2 = np.arange(1, 11)\n",
    "\n",
    "# Perform element-wise addition between arr1 and arr2\n",
    "result = np.add(arr1, arr2)\n",
    "\n",
    "print(\"Array arr1: \", arr1)\n",
    "print(\"Array arr2: \", arr2)\n",
    "print(\"Result of element-wise addition: \", result)"
   ]
  },
  {
   "cell_type": "code",
   "execution_count": null,
   "id": "dc0effb2-19ab-448e-a6db-60285bcd68ce",
   "metadata": {},
   "outputs": [],
   "source": [
    "#53 Create a NumPy array `arr1` with random integers and another array `arr2` with integers from 1 to 5.\n",
    "Perform element-wise multiplication between `arr1` and `arr2\n",
    "import numpy as np\n",
    "\n",
    "# Create a NumPy array `arr1` with random integers\n",
    "arr1 = np.random.randint(0, 100, size=(5, 3))  # 5x3 array with random integers between 0 and 100\n",
    "\n",
    "print(\"Array 1 (random integers):\")\n",
    "print(arr1)\n",
    "\n",
    "# Create a NumPy array `arr2` with integers from 1 to 5\n",
    "arr2 = np.arange(1, 6).reshape(1, -1)  # 1x5 array with integers from 1 to 5\n",
    "\n",
    "print(\"Array 2 (integers from 1 to 5):\")\n",
    "print(arr2)\n",
    "\n",
    "# Perform element-wise multiplication between `arr1` and `arr2`\n",
    "arr3 = np.multiply(arr1, arr2)\n",
    "\n",
    "print(\"Element-wise multiplication result:\")\n",
    "print(arr3)"
   ]
  },
  {
   "cell_type": "code",
   "execution_count": null,
   "id": "b9cd3c9c-523b-46da-9462-879b6100c077",
   "metadata": {},
   "outputs": [],
   "source": [
    "#54 Generate a NumPy array `arr1` with even integers from 2 to 10 and another array `arr2` with integers from 1\n",
    "to 5. Perform element-wise division of `arr1` by `arr2`.\n",
    "import numpy as np\n",
    "\n",
    "# Create a NumPy array with even integers from 2 to 10\n",
    "arr1 = np.arange(2, 11, 2)\n",
    "print(\"Array 1 (arr1):\", arr1)\n",
    "\n",
    "# Create a NumPy array with integers from 1 to 5\n",
    "arr2 = np.arange(1, 6)\n",
    "print(\"Array 2 (arr2):\", arr2)\n",
    "\n",
    "# Perform element-wise division of arr1 by arr2\n",
    "result = np.true_divide(arr1, arr2)\n",
    "print(\"Result of element-wise division:\", result)"
   ]
  },
  {
   "cell_type": "code",
   "execution_count": null,
   "id": "725e088e-6e3e-4b4d-9e37-961740f8ef1f",
   "metadata": {},
   "outputs": [],
   "source": [
    "#55 Create a NumPy array `arr1` with integers from 1 to 5 and another array `arr2` with the same numbers\n",
    "reversed. Calculate the exponentiation of `arr1` raised to the power of `arr2` element-wise.\n",
    "import numpy as np\n",
    "\n",
    "# Create a NumPy array `arr1` with integers from 1 to 5\n",
    "arr1 = np.arange(1, 6)\n",
    "\n",
    "# Create another array `arr2` with the same numbers reversed\n",
    "arr2 = np.arange(5, 0, -1)\n",
    "\n",
    "# Calculate the exponentiation of `arr1` raised to the power of `arr2` element-wise\n",
    "result = np.power(arr1, arr2)\n",
    "\n",
    "print(result)"
   ]
  },
  {
   "cell_type": "code",
   "execution_count": null,
   "id": "367819e8-aa65-46cc-81e3-38d18f60361d",
   "metadata": {},
   "outputs": [],
   "source": [
    "#56  Write a function that counts the occurrences of a specific substring within a NumPy array of strings\n",
    "arr = np.array(['hello', 'world', 'hello', 'numpy', 'hello'])\n",
    "import numpy as np\n",
    "\n",
    "def count_substring(arr, sub):\n",
    "    \"\"\"\n",
    "    Counts the occurrences of a specific substring within a NumPy array of strings.\n",
    "\n",
    "    Parameters:\n",
    "    arr (numpy.ndarray): NumPy array of strings.\n",
    "    sub (str): Substring to search for.\n",
    "\n",
    "    Returns:\n",
    "    int: Total count of substring occurrences.\n",
    "    \"\"\"\n",
    "    return np.sum(np.char.count(arr, sub))\n",
    "\n",
    "# Example usage:\n",
    "arr = np.array(['hello', 'world', 'hello', 'numpy', 'hello'])\n",
    "sub = 'hello'\n",
    "count = count_substring(arr, sub)\n",
    "print(f\"Total occurrences of '{sub}': {count}\")"
   ]
  },
  {
   "cell_type": "code",
   "execution_count": null,
   "id": "4a3f5dc6-5e17-4e48-bcdf-4bc48db80d97",
   "metadata": {},
   "outputs": [],
   "source": [
    "#57 57. Write a function that extracts uppercase characters from a NumPy array of strings.\n",
    "arr = np.array(['Hello', 'World', 'OpenAI', 'GPT'])\n",
    "\n",
    "import numpy as np\n",
    "\n",
    "def extract_uppercase(arr):\n",
    "    return np.array([ ''.join([char for char in string if char.isupper()]) for string in arr ])\n",
    "\n",
    "# Example usage\n",
    "arr = np.array(['Hello', 'World', 'OpenAI', 'GPT'])\n",
    "print(extract_uppercase(arr))  # Output: ['H', 'W', 'O', 'GPT']"
   ]
  },
  {
   "cell_type": "code",
   "execution_count": null,
   "id": "402c0643-dfe1-4e74-a6c0-442ef85371d7",
   "metadata": {},
   "outputs": [],
   "source": [
    "#58  Write a function that replaces occurrences of a substring in a NumPy array of strings with a new string \n",
    "arr = np.array(['apple', 'banana', 'grape', 'pineapple'])\n",
    "import numpy as np\n",
    "\n",
    "def replace_substring(arr, old_substring, new_substring):\n",
    "    return np.char.replace(arr, old_substring, new_substring)\n",
    "\n",
    "# Example usage\n",
    "arr = np.array(['hello', 'world', 'hello', 'numpy', 'hello'])\n",
    "print(replace_substring(arr, 'hello', 'hi'))  # Output: ['hi' 'world' 'hi' 'numpy' 'hi']"
   ]
  },
  {
   "cell_type": "code",
   "execution_count": null,
   "id": "79370e2d-cb67-41c6-b16e-6486399d87b2",
   "metadata": {},
   "outputs": [],
   "source": [
    "#59  Write a function that concatenates strings in a NumPy array element-wise.\n",
    "arr1 = np.array(['Hello', 'World']) ",
    "\n",
    "arr2 = np.array(['Open', 'AI'])\n",
    "import numpy as np\n",
    "\n",
    "def concatenate_strings(arr):\n",
    "    return np.char.add(arr[:-1], arr[1:])\n",
    "\n",
    "# Example usage\n",
    "arr = np.array(['Hello', 'World', 'OpenAI', 'GPT'])\n",
    "print(concatenate_strings(arr))  # Output: ['HelloWorld' 'WorldOpenAI' 'OpenAIGPT']"
   ]
  },
  {
   "cell_type": "code",
   "execution_count": null,
   "id": "d942d808-8f5f-487a-a400-f92c99760c21",
   "metadata": {},
   "outputs": [],
   "source": [
    "#60  Write a function that finds the length of the longest string in a NumPy array.\n",
    "\n",
    "arr = np.array(['apple', 'banana', 'grape', 'pineapple'])\n",
    "import numpy as np\n",
    "\n",
    "def longest_string(arr):\n",
    "    return np.max(np.char.str_len(arr))\n",
    "\n",
    "# Example usage\n",
    "arr = np.array(['apple', 'banana', 'grape', 'pineapple'])\n",
    "print(longest_string(arr))  # Output: 9 (pineapple)\n"
   ]
  },
  {
   "cell_type": "code",
   "execution_count": null,
   "id": "84afdb31-e697-4d76-92e7-f40287906bd3",
   "metadata": {},
   "outputs": [],
   "source": [
    "#61  Create a dataset of 100 random integers between 1 and 1000. Compute the mean, median, variance, and\n",
    "standard deviation of the dataset using NumPy's functions.\n",
    "import numpy as np\n",
    "\n",
    "def statistics():\n",
    "    data = np.random.randint(1, 1001, 100)\n",
    "    mean = np.mean(data)\n",
    "    median = np.median(data)\n",
    "    variance = np.var(data)\n",
    "    std_dev = np.std(data)\n",
    "    return mean, median, variance, std_dev\n",
    "\n",
    "# Example usage\n",
    "mean, median, variance, std_dev = statistics()\n",
    "print(mean, median, variance, std_dev)\n"
   ]
  },
  {
   "cell_type": "code",
   "execution_count": null,
   "id": "6aa40eec-61d1-4278-9bfa-5767e664ef18",
   "metadata": {},
   "outputs": [],
   "source": [
    "#62 Generate an array of 50 random numbers between 1 and 100. Find the 25th and 75th percentiles of the\n",
    "dataset.\n",
    "import numpy as np\n",
    "\n",
    "def percentiles():\n",
    "    data = np.random.randint(1, 101, 50)\n",
    "    p25 = np.percentile(data, 25)\n",
    "    p75 = np.percentile(data, 75)\n",
    "    return p25, p75\n",
    "\n",
    "# Example usage\n",
    "p25, p75 = percentiles()\n",
    "print(p25, p75)\n"
   ]
  },
  {
   "cell_type": "code",
   "execution_count": null,
   "id": "87443d61-4845-4c50-9a01-6627855f0fd2",
   "metadata": {},
   "outputs": [],
   "source": [
    "#63 . Create two arrays representing two sets of variables. Compute the correlation coefficient between these\n",
    "arrays using NumPy's `corrcoef` function. \n",
    "import numpy as np\n",
    "\n",
    "def correlation(arr1, arr2):\n",
    "    return np.corrcoef(arr1, arr2)[0, 1]\n",
    "\n",
    "# Example usage\n",
    "arr1 = np.array([1, 2, 3, 4, 5])\n",
    "arr2 = np.array([5, 4, 3, 2, 1])\n",
    "print(correlation(arr1, arr2))  # Output: -1.0\n"
   ]
  },
  {
   "cell_type": "code",
   "execution_count": null,
   "id": "b98f20b2-0ae1-491d-acdf-f11b87e2a0af",
   "metadata": {},
   "outputs": [],
   "source": [
    "#64  Create two matrices and perform matrix multiplication using NumPy's `dot` function.\n",
    "import numpy as np\n",
    "\n",
    "def matrix_multiply():\n",
    "    mat1 = np.array([[1, 2, 3], [4, 5, 6]])\n",
    "    mat2 = np.array([[7, 8], [9, 10], [11, 12]])\n",
    "    return np.dot(mat1, mat2)\n",
    "\n",
    "# Example usage\n",
    "result = matrix_multiply()\n",
    "print(result)\n"
   ]
  },
  {
   "cell_type": "code",
   "execution_count": null,
   "id": "1152762a-d3da-4a3c-be75-07ecf24fd709",
   "metadata": {},
   "outputs": [],
   "source": [
    "#65  Create an array of 50 integers between 10 and 1000. Calculate the 10th, 50th (median), and 90th\n",
    "percentiles along with the first and third quartiles\n",
    "import numpy as np\n",
    "\n",
    "def percentiles_and_quartiles():\n",
    "    data = np.random.randint(10, 1001, 50)\n",
    "    p10 = np.percentile(data, 10)\n",
    "    p50 = np.percentile(data, 50)\n",
    "    p90 = np.percentile(data, 90)\n",
    "    q1 = np.percentile(data, 25)\n",
    "    q3 = np.percentile(data, 75)\n",
    "    return p10, p50, p90, q1, q3\n",
    "\n",
    "# Example usage\n",
    "p10, p50, p90, q1, q3 = percentiles_and_quartiles()\n",
    "print(p10, p50, p90, q1, q3)"
   ]
  },
  {
   "cell_type": "code",
   "execution_count": null,
   "id": "05c43884-f40b-4d08-8cd4-60e2511f342d",
   "metadata": {},
   "outputs": [],
   "source": [
    "#66  Create a NumPy array of integers and find the index of a specific element.\n",
    "import numpy as np\n",
    "\n",
    "def find_index(arr, value):\n",
    "    return np.where(arr == value)[0][0]\n",
    "\n",
    "# Example usage\n",
    "arr = np.array([1, 2, 3, 4, 5])\n",
    "index = find_index(arr, 3)\n",
    "print(index)  # Output: 2\n"
   ]
  },
  {
   "cell_type": "code",
   "execution_count": null,
   "id": "37971bf3-4b6a-43c6-bc7f-0ada1dd866d0",
   "metadata": {},
   "outputs": [],
   "source": [
    "#67 Generate a random NumPy array and sort it in ascending order. \n",
    "import numpy as np\n",
    "\n",
    "def sort_array():\n",
    "    arr = np.random.randint(1, 1001, 50)\n",
    "    return np.sort(arr)\n",
    "\n",
    "# Example usage\n",
    "sorted_arr = sort_array()\n",
    "print(sorted_arr)\n"
   ]
  },
  {
   "cell_type": "code",
   "execution_count": null,
   "id": "2cf4c72f-292b-40c1-8010-c420556f0be5",
   "metadata": {},
   "outputs": [],
   "source": [
    "#68  Filter elements >20  in the given NumPy array\n",
    "arr = np.array([12, 25, 6, 42, 8, 30])\n",
    "import numpy as np\n",
    "\n",
    "def filter_greater_than_20(arr):\n",
    "    return arr[arr > 20]\n",
    "\n",
    "# Example usage\n",
    "arr = np.array([1, 5, 8, 12, 15, 30, 42])\n",
    "filtered_arr = filter_greater_than_20(arr)\n",
    "print(filtered_arr)"
   ]
  },
  {
   "cell_type": "code",
   "execution_count": null,
   "id": "dbe982f3-cdc8-41ae-8f2a-dbdff5ab03d1",
   "metadata": {},
   "outputs": [],
   "source": [
    "#69  Filter elements which are divisible by 3 from a given NumPy array. \n",
    "arr = np.array([1, 5, 8, 12, 15])\n",
    "\n",
    "import numpy as np\n",
    "\n",
    "def filter_divisible_by_3(arr):\n",
    "    return arr[arr % 3 == 0]\n",
    "\n",
    "# Example usage\n",
    "arr = np.array([1, 2, 3, 4, 6, 9, 12])\n",
    "filtered_arr = filter_divisible_by_3(arr)\n",
    "print(filtered_arr)\n"
   ]
  },
  {
   "cell_type": "code",
   "execution_count": null,
   "id": "74757532-0ee3-41fd-a96d-f0f9891742a0",
   "metadata": {},
   "outputs": [],
   "source": [
    "#70   Filter elements which are ≥ 20 and ≤ 40 from a given NumPy array\n",
    "arr = np.array([10, 20, 30, 40, 50])\n",
    "import numpy as np\n",
    "\n",
    "def filter_between_20_and_40(arr):\n",
    "    return arr[(arr >= 20) & (arr <= 40)]\n",
    "\n",
    "# Example usage\n",
    "arr = np.array([10, 20, 30, 40, 50, 60])\n",
    "filtered_arr = filter_between_20_and_40(arr)\n",
    "print(filtered_arr)\n"
   ]
  },
  {
   "cell_type": "code",
   "execution_count": null,
   "id": "d969cefc-c497-43a2-8ac9-d0c859e9c312",
   "metadata": {},
   "outputs": [],
   "source": [
    "#71 For the given NumPy array, check its byte order using the `dtype` attribute byteorder\n",
    "arr = np.array([1, 2, 3])\n",
    "import numpy as np\n",
    "\n",
    "def check_byteorder(arr):\n",
    "    return arr.dtype.byteorder\n",
    "\n",
    "# Example usage\n",
    "arr = np.array([1, 2, 3, 4])\n",
    "byte_order = check_byteorder(arr)\n",
    "print(byte_order)"
   ]
  },
  {
   "cell_type": "code",
   "execution_count": null,
   "id": "d6ad07b9-06f6-4360-ade3-69243f2f8e5a",
   "metadata": {},
   "outputs": [],
   "source": [
    "#72 2. For the given NumPy array, perform byte swapping in place using `byteswap()`.\n",
    "arr = np.array([1, 2, 3], dtype=np.int32)\n",
    "import numpy as np\n",
    "\n",
    "arr = np.array([1, 2, 3], dtype=np.int32)\n",
    "print(\"Original array:\", arr)\n",
    "arr.byteswap(inplace=True)\n",
    "print(\"Byte-swapped array:\", arr)"
   ]
  },
  {
   "cell_type": "code",
   "execution_count": null,
   "id": "b4c0430e-1a75-47b3-8eb6-4c789581856e",
   "metadata": {},
   "outputs": [],
   "source": [
    "#73  For the given NumPy array, swap its byte order without modifying the original array using\n",
    "`newbyteorder()`.arr = np.array([1, 2, 3], dtype=np.int32)\n",
    "arr = np.array([1, 2, 3], dtype=np.int32)\n",
    "new_arr = arr.newbyteorder()\n",
    "print(\"Original array:\", arr)\n",
    "print(\"New byte order array:\", new_arr)"
   ]
  },
  {
   "cell_type": "code",
   "execution_count": null,
   "id": "7d9281d1-6939-415a-a8a6-a43a5275f292",
   "metadata": {},
   "outputs": [],
   "source": [
    "#74  For the given NumPy array and swap its byte order conditionally based on system endianness using\n",
    "`arr = np.array([1, 2, 3], dtype=np.int32)\n",
    "if arr.dtype.byteorder == '=':  # Native endianness\n",
    "    swapped_arr = arr.newbyteorder()\n",
    "    print(\"Byte-swapped array:\", swapped_arr)\n",
    "else:\n",
    "    print(\"No swapping needed:\", arr)\n",
    "newbyteorder()`.arr = np.array([1, 2, 3], dtype=np.int32)\n"
   ]
  },
  {
   "cell_type": "code",
   "execution_count": null,
   "id": "ba7da7fd-ba21-4b3f-92f9-ad304488c072",
   "metadata": {},
   "outputs": [],
   "source": [
    "#75  For the given NumPy array, check if byte swapping is necessary for the current system using `dtype`\n",
    "attribute `byteorder arr = np.array([1, 2, 3], dtype=np.int32)\n",
    "arr = np.array([1, 2, 3], dtype=np.int32)\n",
    "byte_order = arr.dtype.byteorder\n",
    "if byte_order == '=':\n",
    "    print(\"Byte swapping is necessary.\")\n",
    "else:\n",
    "    print(\"Byte swapping is not necessary.\")"
   ]
  },
  {
   "cell_type": "code",
   "execution_count": null,
   "id": "bdcf2e5c-a43c-4f6d-b17c-843198a56d82",
   "metadata": {},
   "outputs": [],
   "source": [
    "#76 . Create a NumPy array `arr1` with values from 1 to 10. Create a copy of `arr1` named `copy_arr` and modify\n",
    "an element in `copy_arr`. Check if modifying `copy_arr` affects `arr1`.\n",
    "arr1 = np.arange(1, 11)\n",
    "copy_arr = arr1.copy()\n",
    "copy_arr[0] = 100\n",
    "print(\"Original array:\", arr1)\n",
    "print(\"Modified copy:\", copy_arr)"
   ]
  },
  {
   "cell_type": "code",
   "execution_count": null,
   "id": "a20f2daf-8926-4874-a7ec-a1bf388467a8",
   "metadata": {},
   "outputs": [],
   "source": [
    "#77  Create a 2D NumPy array `matrix` of shape (3, 3) with random integers. Extract a slice `view_slice` from\n",
    "the matrix. Modify an element in `view_slice` and observe if it changes the original `matrix`.\n",
    "\n",
    "matrix = np.random.randint(1, 10, (3, 3))\n",
    "view_slice = matrix[:2, :2]\n",
    "view_slice[0, 0] = 100\n",
    "print(\"Original matrix after modifying view:\", matrix)\n"
   ]
  },
  {
   "cell_type": "code",
   "execution_count": null,
   "id": "f544ef7c-28b0-42e8-83ea-03b58ec64ddd",
   "metadata": {},
   "outputs": [],
   "source": [
    "#78 . Create a NumPy array `array_a` of shape (4, 3) with sequential integers from 1 to 12. Extract a slice\n",
    "`view_b` from `array_a` and broadcast the addition of 5 to view_b. Check if it alters the original `array\n",
    "array_a = np.arange(1, 13).reshape(4, 3)\n",
    "view_b = array_a[1:3, :]\n",
    "view_b += 5\n",
    "print(\"Original array after broadcasting addition:\", array_a)"
   ]
  },
  {
   "cell_type": "code",
   "execution_count": null,
   "id": "512edd21-fdc5-47db-afef-a0de7da5c519",
   "metadata": {},
   "outputs": [],
   "source": [
    "#79 Create a NumPy array `orig_array` of shape (2, 4) with values from 1 to 8. Create a reshaped view\n",
    "`reshaped_view` of shape (4, 2) from orig_array. Modify an element in `reshaped_view` and check if it\n",
    "#reflects changes in the original `orig_array\n",
    "orig_array = np.arange(1, 9).reshape(2, 4)\n",
    "reshaped_view = orig_array.reshape(4, 2)\n",
    "reshaped_view[0, 0] = 100\n",
    "print(\"Original array after modifying reshaped view:\", orig_array)\n"
   ]
  },
  {
   "cell_type": "code",
   "execution_count": null,
   "id": "820ae72a-50c4-4886-ace6-3f49f4594d69",
   "metadata": {},
   "outputs": [],
   "source": [
    "#80  Create a NumPy array `data` of shape (3, 4) with random integers. Extract a copy `data_copy` of\n",
    "elements greater than 5. Modify an element in `data_copy` and verify if it affects the original `data`.\n",
    "data = np.random.randint(1, 10, (3, 4))\n",
    "data_copy = data[data > 5].copy()\n",
    "data_copy[0] = 100\n",
    "print(\"Original array:\", data)\n",
    "print(\"Modified copy:\", data_copy)\n"
   ]
  },
  {
   "cell_type": "code",
   "execution_count": null,
   "id": "e2722b7e-27c1-421b-8947-9b969f7158d0",
   "metadata": {},
   "outputs": [],
   "source": [
    "#81 Create two matrices A and B of identical shape containing integers and perform addition and subtraction\n",
    "operations between them \n",
    "A = np.random.randint(1, 10, (3, 3))\n",
    "B = np.random.randint(1, 10, (3, 3))\n",
    "print(\"Matrix A:\\n\", A)\n",
    "print(\"Matrix B:\\n\", B)\n",
    "print(\"A + B:\\n\", A + B)\n",
    "print(\"A - B:\\n\", A - B)\n"
   ]
  },
  {
   "cell_type": "code",
   "execution_count": null,
   "id": "643cdcaf-53cd-4dea-8d29-14a9c94564c0",
   "metadata": {},
   "outputs": [],
   "source": [
    "#82 Generate two matrices `C` (3x2) and `D` (2x4) and perform matrix multiplication\n",
    "C = np.random.randint(1, 10, (3, 2))\n",
    "D = np.random.randint(1, 10, (2, 4))\n",
    "print(\"Matrix C:\\n\", C)\n",
    "print(\"Matrix D:\\n\", D)\n",
    "print(\"C x D:\\n\", np.dot(C, D))\n"
   ]
  },
  {
   "cell_type": "code",
   "execution_count": null,
   "id": "53917225-2491-40ad-af77-266de1327969",
   "metadata": {},
   "outputs": [],
   "source": []
  },
  {
   "cell_type": "code",
   "execution_count": null,
   "id": "dfc16c98-3f59-400e-853b-70536e57642b",
   "metadata": {},
   "outputs": [],
   "source": []
  },
  {
   "cell_type": "code",
   "execution_count": null,
   "id": "76ee9c43-9cd0-4a39-bb5d-e4e432063440",
   "metadata": {},
   "outputs": [],
   "source": []
  },
  {
   "cell_type": "code",
   "execution_count": null,
   "id": "e87cd30d-405a-41ba-8e9a-5c41622d31d8",
   "metadata": {},
   "outputs": [],
   "source": []
  },
  {
   "cell_type": "code",
   "execution_count": null,
   "id": "4d794966-c780-4ca6-84e1-c580637a0916",
   "metadata": {},
   "outputs": [],
   "source": []
  },
  {
   "cell_type": "code",
   "execution_count": null,
   "id": "afa8cc1e-88b0-4648-9ec4-5b3662301e32",
   "metadata": {},
   "outputs": [],
   "source": []
  },
  {
   "cell_type": "code",
   "execution_count": null,
   "id": "3bd59296-be3e-464a-a58b-1e16513d0c83",
   "metadata": {},
   "outputs": [],
   "source": []
  },
  {
   "cell_type": "code",
   "execution_count": null,
   "id": "d3cfbfd0-d298-49c1-a438-d7996dcd88c9",
   "metadata": {},
   "outputs": [],
   "source": []
  }
 ],
 "metadata": {
  "kernelspec": {
   "display_name": "Python 3 (ipykernel)",
   "language": "python",
   "name": "python3"
  },
  "language_info": {
   "codemirror_mode": {
    "name": "ipython",
    "version": 3
   },
   "file_extension": ".py",
   "mimetype": "text/x-python",
   "name": "python",
   "nbconvert_exporter": "python",
   "pygments_lexer": "ipython3",
   "version": "3.12.7"
  }
 },
 "nbformat": 4,
 "nbformat_minor": 5
}
